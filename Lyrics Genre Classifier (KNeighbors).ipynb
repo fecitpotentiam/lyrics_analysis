{
 "cells": [
  {
   "cell_type": "code",
   "execution_count": 332,
   "metadata": {},
   "outputs": [],
   "source": [
    "import pandas as pd"
   ]
  },
  {
   "cell_type": "code",
   "execution_count": 333,
   "metadata": {},
   "outputs": [],
   "source": [
    "df = pd.read_csv('lyrics_tagged.csv')"
   ]
  },
  {
   "cell_type": "code",
   "execution_count": 334,
   "metadata": {},
   "outputs": [],
   "source": [
    "# Delete songs with empty tags"
   ]
  },
  {
   "cell_type": "code",
   "execution_count": 335,
   "metadata": {},
   "outputs": [],
   "source": [
    "df = df[df['tag'].notnull()]"
   ]
  },
  {
   "cell_type": "code",
   "execution_count": 336,
   "metadata": {},
   "outputs": [],
   "source": [
    "# Now we should understand - is our dataset imbalanced?"
   ]
  },
  {
   "cell_type": "code",
   "execution_count": 337,
   "metadata": {},
   "outputs": [
    {
     "data": {
      "text/plain": [
       "tag\n",
       "60s                   21\n",
       "6ix9ine                1\n",
       "80s                  537\n",
       "acoustic             180\n",
       "alternative            1\n",
       "alternative rock     198\n",
       "blues                 60\n",
       "britpop              122\n",
       "cardi b                1\n",
       "chillout               1\n",
       "chris brown            1\n",
       "classic rock        1489\n",
       "country             1546\n",
       "dance                 31\n",
       "dancehall              1\n",
       "ed sheeran             2\n",
       "edm                    1\n",
       "electronic           166\n",
       "female vocalists     770\n",
       "folk                 596\n",
       "funk                 536\n",
       "hindi                  2\n",
       "hip hop                4\n",
       "hiphop              2486\n",
       "house                  2\n",
       "indie                250\n",
       "indie rock           191\n",
       "jazz                1862\n",
       "katy perry             1\n",
       "kendrick lamar         1\n",
       "nu metal              15\n",
       "oldies                 1\n",
       "pop                 6371\n",
       "pop rock             125\n",
       "rap                 1118\n",
       "reggae               155\n",
       "reggaeton              1\n",
       "rnb                 1127\n",
       "rock                2005\n",
       "rockabilly             4\n",
       "seen live              3\n",
       "selena gomez           1\n",
       "singersongwriter     157\n",
       "soul                 926\n",
       "soundtrack            28\n",
       "swing                 71\n",
       "the weeknd             1\n",
       "trap                   1\n",
       "usa                    1\n",
       "dtype: int64"
      ]
     },
     "execution_count": 337,
     "metadata": {},
     "output_type": "execute_result"
    }
   ],
   "source": [
    "df.groupby('tag').size()"
   ]
  },
  {
   "cell_type": "code",
   "execution_count": 338,
   "metadata": {},
   "outputs": [],
   "source": [
    "# Yes, it's imbalanced. And also we see that we can fuse different genres into one. "
   ]
  },
  {
   "cell_type": "code",
   "execution_count": 339,
   "metadata": {},
   "outputs": [],
   "source": [
    "df = df.replace({'alternative rock': 'rock', 'classic rock': 'rock', 'indie rock': 'rock', 'pop rock': 'rock', 'rockabilly': 'rock', 'hip-hop': 'hip hop', 'hiphop': 'hip hop', 'rap': 'hip hop'})"
   ]
  },
  {
   "cell_type": "code",
   "execution_count": 340,
   "metadata": {},
   "outputs": [],
   "source": [
    "# Check it"
   ]
  },
  {
   "cell_type": "code",
   "execution_count": 341,
   "metadata": {},
   "outputs": [
    {
     "data": {
      "text/plain": [
       "tag\n",
       "60s                   21\n",
       "6ix9ine                1\n",
       "80s                  537\n",
       "acoustic             180\n",
       "alternative            1\n",
       "blues                 60\n",
       "britpop              122\n",
       "cardi b                1\n",
       "chillout               1\n",
       "chris brown            1\n",
       "country             1546\n",
       "dance                 31\n",
       "dancehall              1\n",
       "ed sheeran             2\n",
       "edm                    1\n",
       "electronic           166\n",
       "female vocalists     770\n",
       "folk                 596\n",
       "funk                 536\n",
       "hindi                  2\n",
       "hip hop             3608\n",
       "house                  2\n",
       "indie                250\n",
       "jazz                1862\n",
       "katy perry             1\n",
       "kendrick lamar         1\n",
       "nu metal              15\n",
       "oldies                 1\n",
       "pop                 6371\n",
       "reggae               155\n",
       "reggaeton              1\n",
       "rnb                 1127\n",
       "rock                4012\n",
       "seen live              3\n",
       "selena gomez           1\n",
       "singersongwriter     157\n",
       "soul                 926\n",
       "soundtrack            28\n",
       "swing                 71\n",
       "the weeknd             1\n",
       "trap                   1\n",
       "usa                    1\n",
       "dtype: int64"
      ]
     },
     "execution_count": 341,
     "metadata": {},
     "output_type": "execute_result"
    }
   ],
   "source": [
    "df.groupby('tag').size()"
   ]
  },
  {
   "cell_type": "code",
   "execution_count": 342,
   "metadata": {},
   "outputs": [],
   "source": [
    "# I have decided to concentrate only on three genres - rock, hip hop, and pop"
   ]
  },
  {
   "cell_type": "code",
   "execution_count": 343,
   "metadata": {},
   "outputs": [],
   "source": [
    "df = df[df['tag'].isin(['rock', 'pop', 'hip hop'])]"
   ]
  },
  {
   "cell_type": "code",
   "execution_count": 344,
   "metadata": {},
   "outputs": [
    {
     "data": {
      "text/plain": [
       "tag\n",
       "hip hop    3608\n",
       "pop        6371\n",
       "rock       4012\n",
       "dtype: int64"
      ]
     },
     "execution_count": 344,
     "metadata": {},
     "output_type": "execute_result"
    }
   ],
   "source": [
    "df.groupby('tag').size()"
   ]
  },
  {
   "cell_type": "code",
   "execution_count": 345,
   "metadata": {},
   "outputs": [],
   "source": [
    "# But we still have a lot of pop-songs. Let's balance it"
   ]
  },
  {
   "cell_type": "code",
   "execution_count": 346,
   "metadata": {},
   "outputs": [],
   "source": [
    "pop_songs = df[df['tag'] == 'pop'].sample(3800)"
   ]
  },
  {
   "cell_type": "code",
   "execution_count": 347,
   "metadata": {},
   "outputs": [],
   "source": [
    "df = pd.concat([pop_songs, df[df['tag'] != 'pop']], axis=0)"
   ]
  },
  {
   "cell_type": "code",
   "execution_count": 348,
   "metadata": {},
   "outputs": [
    {
     "data": {
      "text/plain": [
       "tag\n",
       "hip hop    3608\n",
       "pop        3800\n",
       "rock       4012\n",
       "dtype: int64"
      ]
     },
     "execution_count": 348,
     "metadata": {},
     "output_type": "execute_result"
    }
   ],
   "source": [
    "df.groupby('tag').size()"
   ]
  },
  {
   "cell_type": "code",
   "execution_count": 349,
   "metadata": {},
   "outputs": [],
   "source": [
    "# Now we should encode our genres"
   ]
  },
  {
   "cell_type": "code",
   "execution_count": 350,
   "metadata": {},
   "outputs": [],
   "source": [
    "from sklearn import preprocessing"
   ]
  },
  {
   "cell_type": "code",
   "execution_count": 351,
   "metadata": {},
   "outputs": [],
   "source": [
    "le = preprocessing.LabelEncoder()"
   ]
  },
  {
   "cell_type": "code",
   "execution_count": 352,
   "metadata": {},
   "outputs": [
    {
     "data": {
      "text/plain": [
       "LabelEncoder()"
      ]
     },
     "execution_count": 352,
     "metadata": {},
     "output_type": "execute_result"
    }
   ],
   "source": [
    "le.fit(df['tag'])"
   ]
  },
  {
   "cell_type": "code",
   "execution_count": 353,
   "metadata": {},
   "outputs": [],
   "source": [
    "labels = le.transform(df['tag'])"
   ]
  },
  {
   "cell_type": "code",
   "execution_count": 354,
   "metadata": {},
   "outputs": [],
   "source": [
    "# And than we split our data to train-data and test-data"
   ]
  },
  {
   "cell_type": "code",
   "execution_count": 355,
   "metadata": {},
   "outputs": [],
   "source": [
    "from sklearn.model_selection import train_test_split"
   ]
  },
  {
   "cell_type": "code",
   "execution_count": 356,
   "metadata": {},
   "outputs": [],
   "source": [
    "X_train, X_test, y_train, y_test = train_test_split(df['lyrics'], labels, test_size=0.2)"
   ]
  },
  {
   "cell_type": "code",
   "execution_count": 357,
   "metadata": {},
   "outputs": [],
   "source": [
    "# Train TF-IDF Vectorizer and tranform lyrics to vectors"
   ]
  },
  {
   "cell_type": "code",
   "execution_count": 358,
   "metadata": {},
   "outputs": [],
   "source": [
    "from sklearn.feature_extraction.text import TfidfVectorizer"
   ]
  },
  {
   "cell_type": "code",
   "execution_count": 359,
   "metadata": {},
   "outputs": [],
   "source": [
    "tfidf_vectorizer = TfidfVectorizer(ngram_range=(2, 3))"
   ]
  },
  {
   "cell_type": "code",
   "execution_count": 360,
   "metadata": {},
   "outputs": [
    {
     "data": {
      "text/plain": [
       "TfidfVectorizer(ngram_range=(2, 3))"
      ]
     },
     "execution_count": 360,
     "metadata": {},
     "output_type": "execute_result"
    }
   ],
   "source": [
    "tfidf_vectorizer.fit(X_train)"
   ]
  },
  {
   "cell_type": "code",
   "execution_count": 361,
   "metadata": {},
   "outputs": [],
   "source": [
    "X_data =  tfidf_vectorizer.transform(X_train)"
   ]
  },
  {
   "cell_type": "code",
   "execution_count": 362,
   "metadata": {},
   "outputs": [],
   "source": [
    "# I have chosen simple KNeighbors Classifier for testing my idea. Just because It's easy and fast. "
   ]
  },
  {
   "cell_type": "code",
   "execution_count": 363,
   "metadata": {},
   "outputs": [],
   "source": [
    "from sklearn.neighbors import KNeighborsClassifier "
   ]
  },
  {
   "cell_type": "code",
   "execution_count": 364,
   "metadata": {},
   "outputs": [],
   "source": [
    "knn = KNeighborsClassifier(n_neighbors=80)"
   ]
  },
  {
   "cell_type": "code",
   "execution_count": 365,
   "metadata": {},
   "outputs": [
    {
     "data": {
      "text/plain": [
       "KNeighborsClassifier(n_neighbors=80)"
      ]
     },
     "execution_count": 365,
     "metadata": {},
     "output_type": "execute_result"
    }
   ],
   "source": [
    "knn.fit(X_data, y_train)"
   ]
  },
  {
   "cell_type": "code",
   "execution_count": 366,
   "metadata": {},
   "outputs": [],
   "source": [
    "# Now we can test our classifier"
   ]
  },
  {
   "cell_type": "code",
   "execution_count": 367,
   "metadata": {},
   "outputs": [],
   "source": [
    "X_test_data = tfidf_vectorizer.transform(X_test)"
   ]
  },
  {
   "cell_type": "code",
   "execution_count": 368,
   "metadata": {},
   "outputs": [],
   "source": [
    "y_pred = knn.predict(X_test_data)"
   ]
  },
  {
   "cell_type": "code",
   "execution_count": 369,
   "metadata": {},
   "outputs": [],
   "source": [
    "from sklearn.metrics import accuracy_score"
   ]
  },
  {
   "cell_type": "code",
   "execution_count": 370,
   "metadata": {},
   "outputs": [
    {
     "data": {
      "text/plain": [
       "0.6077057793345009"
      ]
     },
     "execution_count": 370,
     "metadata": {},
     "output_type": "execute_result"
    }
   ],
   "source": [
    "accuracy_score(y_test, y_pred, normalize=True, sample_weight=None)"
   ]
  },
  {
   "cell_type": "code",
   "execution_count": 371,
   "metadata": {},
   "outputs": [],
   "source": [
    "# 0.61 isn't a perfect result, but it's a good start point"
   ]
  },
  {
   "cell_type": "code",
   "execution_count": 372,
   "metadata": {},
   "outputs": [],
   "source": [
    "# Let's try our trained model on examples"
   ]
  },
  {
   "cell_type": "code",
   "execution_count": 373,
   "metadata": {},
   "outputs": [],
   "source": [
    "def predict_song(text):\n",
    "    vector = tfidf_vectorizer.transform([text])\n",
    "    predict = knn.predict(vector)\n",
    "    return le.inverse_transform([predict])[0]"
   ]
  },
  {
   "cell_type": "code",
   "execution_count": 374,
   "metadata": {},
   "outputs": [
    {
     "name": "stderr",
     "output_type": "stream",
     "text": [
      "/home/oksana/.local/lib/python3.8/site-packages/sklearn/utils/validation.py:72: DataConversionWarning: A column-vector y was passed when a 1d array was expected. Please change the shape of y to (n_samples, ), for example using ravel().\n",
      "  return f(**kwargs)\n"
     ]
    }
   ],
   "source": [
    "examples = X_test[:30]\n",
    "predicted_labels = [predict_song(song_text) for song_text in X_test[:30]]"
   ]
  },
  {
   "cell_type": "code",
   "execution_count": 375,
   "metadata": {},
   "outputs": [],
   "source": [
    "real_labels = le.inverse_transform(y_test[:30])"
   ]
  },
  {
   "cell_type": "code",
   "execution_count": 376,
   "metadata": {},
   "outputs": [],
   "source": [
    "results = []\n",
    "for real, predicted in zip(real_labels, predicted_labels):\n",
    "    results.append(f'Real genre: {real}, Predicted genre: {predicted}')"
   ]
  },
  {
   "cell_type": "code",
   "execution_count": 377,
   "metadata": {},
   "outputs": [],
   "source": [
    "# It's interesting if we know the artist and song name"
   ]
  },
  {
   "cell_type": "code",
   "execution_count": 378,
   "metadata": {},
   "outputs": [],
   "source": [
    "def find_source(lyrics):\n",
    "    current_song = df[df['lyrics'] == lyrics]\n",
    "    return f\"{current_song['artist'].values[0]} - {current_song['song_name'].values[0]}\""
   ]
  },
  {
   "cell_type": "code",
   "execution_count": 379,
   "metadata": {},
   "outputs": [],
   "source": [
    "# Let's print results"
   ]
  },
  {
   "cell_type": "code",
   "execution_count": 380,
   "metadata": {},
   "outputs": [
    {
     "name": "stdout",
     "output_type": "stream",
     "text": [
      "Chicago - Anyway You Want\n",
      "\n",
      "\r\n",
      "Anyway you want me\n",
      "It's alright with me\n",
      "Anything you want\n",
      "It's alright with me\n",
      "Know that I love you\n",
      "Know that I need you\n",
      "Anyway you want\n",
      "It's alright with me\n",
      "Baby let me love you\n",
      "Do what I want to do\n",
      "Anyway you want\n",
      "It's alright with me\n",
      "Feels so good\n",
      "Know that I love you\n",
      "Know that I need you\n",
      "Anyw, \n",
      "\n",
      " --------------------------------------------------\n",
      "\n",
      "Real genre: rock, Predicted genre: rock \n",
      "\n",
      " --------------------------------------------------\n",
      "\n",
      "\n",
      "Doja Cat - Grind On Me\n",
      "\n",
      "\r\n",
      "(It's so thick, you know this)\n",
      "\n",
      "I'm high as fuck\n",
      "Light that dutch\n",
      "Mocking when I'm walking\n",
      "Ya, they bite that much\n",
      "And they stalking my circumference, make your pipe stand up\n",
      "Like a mic I adjust it I don't hide that stuff\n",
      "Niggas in the kitchen with that white, doing bumps\n",
      "I do not need that in my, \n",
      "\n",
      " --------------------------------------------------\n",
      "\n",
      "Real genre: pop, Predicted genre: rock \n",
      "\n",
      " --------------------------------------------------\n",
      "\n",
      "\n",
      "Eric Clapton - Call Me The Breeze\n",
      "\n",
      "\r\n",
      "They call me the breeze, I keep blowing down the road\n",
      "They call me the breeze, I keep blowing down the road\n",
      "I ain't got me nobody, I ain't carrying me no load\n",
      "\n",
      "Ain't no change in the weather, ain't no change in me\n",
      "Ain't no change in the weather, ain't no change in me\n",
      "I ain't hidin' from nobody, a, \n",
      "\n",
      " --------------------------------------------------\n",
      "\n",
      "Real genre: rock, Predicted genre: rock \n",
      "\n",
      " --------------------------------------------------\n",
      "\n",
      "\n",
      "Camila Cabello - Sangria Wine\n",
      "\n",
      "\n",
      "[Pharrell Williams:]\n",
      "Honey said she want somebody break her off proper (mhm)\n",
      "Man, she so relentless so nothing can stop her (woo)\n",
      "Never left the city (come on, man) but she swear she's a yardie (hey girl)\n",
      "Because it's so awesome how she move her body (ow)\n",
      "She do the sangria wine (woo), sangria win, \n",
      "\n",
      " --------------------------------------------------\n",
      "\n",
      "Real genre: pop, Predicted genre: hip hop \n",
      "\n",
      " --------------------------------------------------\n",
      "\n",
      "\n",
      "Elton John - Salvation\n",
      "\n",
      "\r\n",
      "I have to say my friends\r\n",
      "This road goes a long, long way\r\n",
      "And if we're going to find the end\r\n",
      "We're gonna need a helping hand\n",
      "\r\n",
      "I have to say my friends\r\n",
      "We're looking for a light ahead\r\n",
      "In the distance a candle burns\r\n",
      "Salvation keeps the hungry children fed\n",
      "\r\n",
      "It's gotta take a lot of salvation\r",
      ", \n",
      "\n",
      " --------------------------------------------------\n",
      "\n",
      "Real genre: pop, Predicted genre: rock \n",
      "\n",
      " --------------------------------------------------\n",
      "\n",
      "\n",
      "Elton John - Seasons\n",
      "\n",
      "\r\n",
      "For our world, the circle turns again\n",
      "Throughout the year, it seems the seasons change\n",
      "It's meant a lot to me to start a new\n",
      "Oh, the winter's cold, but I'm so warm with you\n",
      "\n",
      "Out there there's not a sound to be heard\n",
      "And the seasons seem to sleep upon their words\n",
      "As the waters freeze up with the s, \n",
      "\n",
      " --------------------------------------------------\n",
      "\n",
      "Real genre: pop, Predicted genre: rock \n",
      "\n",
      " --------------------------------------------------\n",
      "\n",
      "\n",
      "Elton John - This Song Has No Title\n",
      "\n",
      "\r\n",
      "Tune me in to the wild side of life\r\n",
      "I'm an innocent young child sharp as a knife\r\n",
      "Take me to the garretts where the artists have died\r\n",
      "Show me the courtrooms where the judges have lied\n",
      "\r\n",
      "Let me drink deeply from the water and the wine\r\n",
      "Light coloured candles in dark dreary mines\r\n",
      "Look in the mir, \n",
      "\n",
      " --------------------------------------------------\n",
      "\n",
      "Real genre: pop, Predicted genre: rock \n",
      "\n",
      " --------------------------------------------------\n",
      "\n",
      "\n",
      "Madonna - Burning Up\n",
      "\n",
      "\r\n",
      "Don't put me off 'cause I'm on fire\r\n",
      "And I can't quench my desire\r\n",
      "Don't you know that I'm burning up for your love\r\n",
      "You're not convinced that that is enough\r\n",
      "I put myself in this position\r\n",
      "And I deserve the imposition\r\n",
      "But you don't even know I'm alive\r\n",
      "And this pounding in my heart just won't d, \n",
      "\n",
      " --------------------------------------------------\n",
      "\n",
      "Real genre: pop, Predicted genre: rock \n",
      "\n",
      " --------------------------------------------------\n",
      "\n",
      "\n",
      "Enrique Iglesias - Muneca Cruel\n",
      "\n",
      "\r\n",
      "Un dia mas y tu no estas aqui\r\n",
      "No me concentro tan solo pienso en ti\n",
      "\r\n",
      "Dicen que basta\r\n",
      "Que es hora de vivir\r\n",
      "y es imposible\r\n",
      "Ves lo que queda de mi\n",
      "\r\n",
      "Aqui esta mi cuerpo\r\n",
      "Para que hagas lo que quieras de el\n",
      "\r\n",
      "Aqui esta mi alma\r\n",
      "Para que sigas ensanandote\n",
      "\r\n",
      "Aqui esta mi nombre\r\n",
      "Para que pongas a , \n",
      "\n",
      " --------------------------------------------------\n",
      "\n",
      "Real genre: pop, Predicted genre: pop \n",
      "\n",
      " --------------------------------------------------\n",
      "\n",
      "\n",
      "Bon Jovi - Blaze Of Glory\n",
      "\n",
      "\r\n",
      "I wake up in the morning\n",
      "And I raise my weary head\n",
      "I've got an old coat for a pillow\n",
      "And the earth was last night's bed\n",
      "\n",
      "I don't know where I'm going\n",
      "Only God knows where I've been\n",
      "I'm a devil on the run\n",
      "A six-gun lover\n",
      "A candle in the wind\n",
      "\n",
      "When you're brought into this world\n",
      "They say you're bor, \n",
      "\n",
      " --------------------------------------------------\n",
      "\n",
      "Real genre: rock, Predicted genre: rock \n",
      "\n",
      " --------------------------------------------------\n",
      "\n",
      "\n",
      "Nickelback - Old Enough\n",
      "\n",
      "\r\n",
      "Shes old enough\r\n",
      "She knows enough\r\n",
      "Shes thrown up\r\n",
      "So throw her\r\n",
      "Out to me\r\n",
      "And I'll treat her like she was mine\r\n",
      "Not my belief\r\n",
      "You got your way and I'll get mine\n",
      "\r\n",
      "And I can't eat\r\n",
      "I can't sleep\r\n",
      "Oh, But Thank you for coming\r\n",
      "And why do we always laugh\r\n",
      "While we're in this discussion\n",
      "\r\n",
      "Should h, \n",
      "\n",
      " --------------------------------------------------\n",
      "\n",
      "Real genre: rock, Predicted genre: rock \n",
      "\n",
      " --------------------------------------------------\n",
      "\n",
      "\n",
      "Bon Jovi - Satellite\n",
      "\n",
      "\r\n",
      "Are you out there? Can you hear me?\n",
      "Do you know my whereabouts?\n",
      "Do you know what I'm all about?\n",
      "Through the static\n",
      "You're so close, so far away\n",
      "\n",
      "Are you listening? I'm desperate\n",
      "Sendin' out an SOS\n",
      "'Cause I'm lost, I must confess\n",
      "Throw a lifeline, I'm down here\n",
      "Drownin' in the deepest part of me\n",
      "\n",
      ", \n",
      "\n",
      " --------------------------------------------------\n",
      "\n",
      "Real genre: rock, Predicted genre: rock \n",
      "\n",
      " --------------------------------------------------\n",
      "\n",
      "\n",
      "M2M - Wait For Me\n",
      "\n",
      "\r\n",
      "you're tired of longing \n",
      "And waiting by the phone\n",
      "And all you get from me \n",
      "Is a sappy love song\n",
      "\n",
      "But I'm tired of flying and hearing the busy tone\n",
      "Well, I sing for a lot of people \n",
      "but I'm also sleeping alone\n",
      "\n",
      "Wait for me\n",
      "I'll come back to you,\n",
      "You know because I want to\n",
      "Wait for me\n",
      "Will you make, \n",
      "\n",
      " --------------------------------------------------\n",
      "\n",
      "Real genre: pop, Predicted genre: rock \n",
      "\n",
      " --------------------------------------------------\n",
      "\n",
      "\n",
      "A Boogie Wit Da Hoodie - Macaroni\n",
      "\n",
      "\r\n",
      "Nigga don't tell me what you want\n",
      "Think you calling shots? I make a call, nigga get you gone\n",
      "Knew that was your girl but she a hoe and her pussy soak\n",
      "Sound like macaroni in a bowl when she mix it up\n",
      "Knew I was gon' put it in song\n",
      "We ain't get to fuck\n",
      "Think about when you leave her home\n",
      "Where she , \n",
      "\n",
      " --------------------------------------------------\n",
      "\n",
      "Real genre: hip hop, Predicted genre: hip hop \n",
      "\n",
      " --------------------------------------------------\n",
      "\n",
      "\n",
      "Eminem - Just Lose It\n",
      "\n",
      "\n",
      "[Intro]\n",
      "[Eminem making sounds:]\n",
      "Down, down, down, down, down, down, down, down, down, down!\n",
      "OK..\n",
      "Guess who's back?\n",
      "Back again\n",
      "Shady's back\n",
      "Tell a friend\n",
      "Whaaaaaaaa\n",
      "\n",
      "Now everyone report to the dance floor\n",
      "To the dance floor, to the dance floor\n",
      "Now everyone report to the dance floor\n",
      "Alright Stop!..., \n",
      "\n",
      " --------------------------------------------------\n",
      "\n",
      "Real genre: hip hop, Predicted genre: pop \n",
      "\n",
      " --------------------------------------------------\n",
      "\n",
      "\n",
      "Post Malone - Magic\n",
      "\n",
      "\n",
      "[Hook:]\n",
      "Pulled a bitch out the hat, yeah that's... magic\n",
      "And I got a lotta bitches at my... mansion\n",
      "Molly, stogies, gas, and some... matches\n",
      "Got your wifey on my lap like Outkast, tragic\n",
      "Magic\n",
      "Magic, alakazam\n",
      "Magic\n",
      "Magic, well I, alakazam\n",
      "\n",
      "[Verse:]\n",
      "32 ounces on me like I'm Magic\n",
      "Magic Johnson 3, I, \n",
      "\n",
      " --------------------------------------------------\n",
      "\n",
      "Real genre: hip hop, Predicted genre: hip hop \n",
      "\n",
      " --------------------------------------------------\n",
      "\n",
      "\n",
      "Bon Jovi - Fingerprints\n",
      "\n",
      "\r\n",
      "I gave you my fingerprints\n",
      "Left them all over you\n",
      "Tangled up in your sheets\n",
      "This heartache's the only proof\n",
      "I gave you my fingerprints\n",
      "Now just like you they're gone\n",
      "The man invisible\n",
      "I'll be him from now on\n",
      "\n",
      "The last time that I saw them\n",
      "They were running through your hair\n",
      "You held one between y, \n",
      "\n",
      " --------------------------------------------------\n",
      "\n",
      "Real genre: rock, Predicted genre: pop \n",
      "\n",
      " --------------------------------------------------\n",
      "\n",
      "\n",
      "Mac Miller - Complicated\n",
      "\n",
      "\r\n",
      "Outside is cloudy but I like that better\n",
      "Behind the wheel but still ain't on my way\n",
      "Some people say they want to live forever\n",
      "That's way too long, I'll just get through today\n",
      "\n",
      "Without any complications\n",
      "Does it always gotta, does it always gotta\n",
      "Gotta be so complicated?\n",
      "Well I'm way too young to b, \n",
      "\n",
      " --------------------------------------------------\n",
      "\n",
      "Real genre: hip hop, Predicted genre: rock \n",
      "\n",
      " --------------------------------------------------\n",
      "\n",
      "\n",
      "Logic - Shade 45 Freestyle\n",
      "\n",
      "\r\n",
      "It feel like just yesterday I was broke as hell\n",
      "Livin life behind these bars like I couldnât make the bail, shit\n",
      "Workin at wings, start cookin chicken that was boneless\n",
      "Til my sister kick me out before Christmas and I was homeless\n",
      "Girl I ainât mad at ya you know I love you the same\n",
      "Cause all , \n",
      "\n",
      " --------------------------------------------------\n",
      "\n",
      "Real genre: hip hop, Predicted genre: hip hop \n",
      "\n",
      " --------------------------------------------------\n",
      "\n",
      "\n",
      "Celine Dion - Next Plane Out\n",
      "\n",
      "\r\n",
      "I listen to the sound of the rain fallin' down my window\n",
      "Prayin' for a gentle wind\n",
      "To bring my baby back again\n",
      "Tryna be strong but I'm not getting any stronger\n",
      "Loneliness is tearing apart this heart of mine\n",
      "\n",
      "I lie awake\n",
      "'Cause I can't take\n",
      "Another night lonely\n",
      "It's been too long,\n",
      "I can't hold on , \n",
      "\n",
      " --------------------------------------------------\n",
      "\n",
      "Real genre: pop, Predicted genre: rock \n",
      "\n",
      " --------------------------------------------------\n",
      "\n",
      "\n",
      "Chris Brown & Young Thug - I Ain't Tryin'\n",
      "\n",
      "\r\n",
      "(You good, T-Minus?)\n",
      "When I try to walk away, it's like I ain't try\n",
      "When I try to walk away, seems like I ain't try (Oh, na-na-na-na)\n",
      "Seems like I ain't try (Ain't even try, oh man)\n",
      "You made me do it a thousand times\n",
      "Yeah, you done me (Oh)\n",
      "\n",
      "Lovin' can hurt, but you patch up, baby (Oh-oh-oh-oh)\n",
      "Ca, \n",
      "\n",
      " --------------------------------------------------\n",
      "\n",
      "Real genre: hip hop, Predicted genre: pop \n",
      "\n",
      " --------------------------------------------------\n",
      "\n",
      "\n",
      "Eric Clapton - Runaway Train\n",
      "\n",
      "\r\n",
      "There's a hungry road I can only hope's\n",
      "Gonna eat me up inside.\n",
      "There's a drifting spirit coming clean\n",
      "In the eye of a lifelong fire.\n",
      "Till Monday I'll be around next week;\n",
      "I'm running ahead of my days.\n",
      "In the shotgun chance that scattered us,\n",
      "I've seen the error of my ways.\n",
      "\n",
      "Oh oh oh, oh oh oh.\n",
      "\n",
      ", \n",
      "\n",
      " --------------------------------------------------\n",
      "\n",
      "Real genre: rock, Predicted genre: pop \n",
      "\n",
      " --------------------------------------------------\n",
      "\n",
      "\n",
      "Akon - Chammak Challo\n",
      "\n",
      "\r\n",
      "Hey, hey, hey, hey\n",
      "\n",
      "Girl you are my chammak challo,\n",
      "Where you go girl I'm gonna follow\n",
      "What you want girl just let me know\n",
      "Oh oh ohh\n",
      "You can be my chammak challo\n",
      "Ooh ohh\n",
      "\n",
      "[Verse:]\n",
      "Surely I'm gonna get ya\n",
      "You know I'm gonna get ya\n",
      "You know I'll even let you\n",
      "Let you be my chammak challo\n",
      "\n",
      "[Chorus:]\n",
      ", \n",
      "\n",
      " --------------------------------------------------\n",
      "\n",
      "Real genre: hip hop, Predicted genre: pop \n",
      "\n",
      " --------------------------------------------------\n",
      "\n",
      "\n",
      "Cher - Silver Wings & Golden Rings\n",
      "\n",
      "\r\n",
      "It was Friday night \n",
      "And both of us were lonely \n",
      "We seemed to meet as lonely people do \n",
      "I filled that empty space till Monday morning \n",
      "I never meant ton fall in love with you \n",
      "Came right out and told me \n",
      "About your wife back home in Houston \n",
      "You were just in town on business \n",
      "You never tried to l, \n",
      "\n",
      " --------------------------------------------------\n",
      "\n",
      "Real genre: pop, Predicted genre: pop \n",
      "\n",
      " --------------------------------------------------\n",
      "\n",
      "\n",
      "The Beatles - Don't Pass Me By\n",
      "\n",
      "\r\n",
      "I listen for your footsteps\n",
      "Coming up the drive\n",
      "Listen for your footsteps\n",
      "But they don't arrive\n",
      "Waiting for your knock, dear\n",
      "On my old front door\n",
      "I don't hear it\n",
      "Does it mean you don't love me any more?\n",
      "\n",
      "I hear the clock are ticking\n",
      "On the mantel shelf\n",
      "See the hands are moving\n",
      "But I'm by myself\n",
      "I, \n",
      "\n",
      " --------------------------------------------------\n",
      "\n",
      "Real genre: rock, Predicted genre: pop \n",
      "\n",
      " --------------------------------------------------\n",
      "\n",
      "\n",
      "Chamillionaire - Still Tippin'\n",
      "\n",
      "\n",
      "[Slim Thug - Hook - 4x]\r\n",
      "Still Tippin' on four fours, wrapped in fo-fours\r\n",
      "Tippin' four hoes, and I'm packin' four fours (Hanh!)\n",
      "\r\n",
      "Now look who creeping look who crawling still balling in the mix\r\n",
      "It's that six six long dick slim nigga sticking your chick\r\n",
      "Pullin tricks looking slick at all times , \n",
      "\n",
      " --------------------------------------------------\n",
      "\n",
      "Real genre: hip hop, Predicted genre: hip hop \n",
      "\n",
      " --------------------------------------------------\n",
      "\n",
      "\n",
      "Elton John - I Should Have Sent Roses\n",
      "\n",
      "\r\n",
      "Are you standing outside?\n",
      "Looking up at the sky\n",
      "Cursing a wondering star\n",
      "Well If I were you\n",
      "I'd throw rocks at the moon\n",
      "I'd say damn you wherever you are\n",
      "I don't know where to start\n",
      "This cage 'round my heart\n",
      "Locked up what I'd meant to say\n",
      "Or I felt all along the way\n",
      "Just wondering how come\n",
      "I cou, \n",
      "\n",
      " --------------------------------------------------\n",
      "\n",
      "Real genre: pop, Predicted genre: pop \n",
      "\n",
      " --------------------------------------------------\n",
      "\n",
      "\n",
      "Lil Dicky - Sky Hooks\n",
      "\n",
      "\n",
      "[Verse 1:]\n",
      "Alrite, this the type a shit they be playin at the barbershop\n",
      "I hear these mafuckas saying that it's all for naught\n",
      "But I ain't stopping till I make it to the top y'all\n",
      "They bout to feel stupid talking like a dropped call\n",
      "\n",
      "Cause I'm bout to pop off ma dude, the flow too cashy\n",
      "And this w, \n",
      "\n",
      " --------------------------------------------------\n",
      "\n",
      "Real genre: hip hop, Predicted genre: hip hop \n",
      "\n",
      " --------------------------------------------------\n",
      "\n",
      "\n",
      "Snoop Dogg - Countdown\n",
      "\n",
      "\n",
      "[Swizz Beatz:]\n",
      "10, 9, 8, 7, 6, 5, 4, 3, 2, 1\n",
      "Snoop Dogg\n",
      "Here we go\n",
      "\n",
      "[Snoop Dogg:]\n",
      "Nigga, understand\n",
      "West Coast son of Sam\n",
      "Drumming wit' a hunnid bands\n",
      "Cause that ain't shit to a real crip, cuz\n",
      "You'll swallow every clip\n",
      "Before a nigga slip, cuz\n",
      "LBC, yeah, we gets love\n",
      "213, rest in peace Nate\n",
      "It's r, \n",
      "\n",
      " --------------------------------------------------\n",
      "\n",
      "Real genre: hip hop, Predicted genre: hip hop \n",
      "\n",
      " --------------------------------------------------\n",
      "\n",
      "\n",
      "Logic - Wrist\n",
      "\n",
      "\n",
      "[Logic:]\n",
      "Yeah I've been killin' this shit\n",
      "Yeah I've been hard in the paint, not a single assist\n",
      "Yeah I've been flickin' that wrist\n",
      "Yeah I've been cookin' that shit, now they fuckin' with this\n",
      "Yeah I've been killin' this shit\n",
      "Yeah I've been hard in the paint, not a single assist\n",
      "Yeah I've been flic, \n",
      "\n",
      " --------------------------------------------------\n",
      "\n",
      "Real genre: hip hop, Predicted genre: hip hop \n",
      "\n",
      " --------------------------------------------------\n",
      "\n",
      "\n"
     ]
    }
   ],
   "source": [
    "for text, result in zip(examples, results):\n",
    "    print(find_source(text))\n",
    "    print(f'{text[:300]}, \\n\\n {\"-\" * 50}\\n\\n{result} \\n\\n {\"-\" * 50}\\n\\n')"
   ]
  },
  {
   "cell_type": "code",
   "execution_count": null,
   "metadata": {},
   "outputs": [],
   "source": [
    "# Let's try other lyrics"
   ]
  },
  {
   "cell_type": "code",
   "execution_count": 381,
   "metadata": {},
   "outputs": [],
   "source": [
    "text = \"\"\"\n",
    "Stand against our enemy\n",
    "Fire\n",
    "The blessing touch of your despair\n",
    "Despair and loneliness\n",
    "You'll rise up, before you fall again\n",
    "Atrocious\n",
    "The bird of prey is haunting us\n",
    "\n",
    "\"Deus\"\n",
    "Conquer your fears\n",
    "\"Deus ex machina\"\n",
    "\"Deus\"\n",
    "Surpass your weaknesses\n",
    "\"Deus ex machina\"\n",
    "\"Deus\"\n",
    "Withstand the fall and stand up again\n",
    "\"Deus ex machina\"\n",
    "Provoking, disturbing, resisting\n",
    "Surviving the ordeal\n",
    "As a father-head of all of us\n",
    "Your flame will forge our hearts, even in oblivion!\n",
    "\"Deus\"\n",
    "\"Deus ex machina\"\n",
    "Resurrection brings our hopes to life\n",
    "And the lies and fears dissolve\n",
    "We are strong\n",
    "\n",
    "Guide us / \"Deus\"\n",
    "Your fire in our hearts / \"Deus ex machina\"\n",
    "Guide us / \"Deus\"\n",
    "You are bringing fear to gods / \"Deus ex machina\"\n",
    "Guide us / \"Deus\"\n",
    "Your fire in our hearts / \"Deus ex machina\"\n",
    "Guide us / \"Deus\"\n",
    "The children of Prometheus / \"Deus ex machina\"\n",
    "\"Guide us\"\n",
    "\"Deus ex machina\"\n",
    "\n",
    "Prometheus...\n",
    "As a giant, standing tall\n",
    "In a shadow close the blackness\n",
    "Prometheus\n",
    "As your breed, we are bound to fall\n",
    "But our light will scare the darkness\n",
    "\"\"\""
   ]
  },
  {
   "cell_type": "code",
   "execution_count": 382,
   "metadata": {},
   "outputs": [
    {
     "data": {
      "text/plain": [
       "'rock'"
      ]
     },
     "execution_count": 382,
     "metadata": {},
     "output_type": "execute_result"
    }
   ],
   "source": [
    "predict_song(text)"
   ]
  },
  {
   "cell_type": "code",
   "execution_count": null,
   "metadata": {},
   "outputs": [],
   "source": [
    "# It's Septicflesh's song \"Prometheus\". We don't have 'metal' genre in our dataset, but, of course, \"rock\" \n",
    "# is closer to the truth than \"pop\" or \"hip hop\""
   ]
  }
 ],
 "metadata": {
  "kernelspec": {
   "display_name": "Python 3",
   "language": "python",
   "name": "python3"
  },
  "language_info": {
   "codemirror_mode": {
    "name": "ipython",
    "version": 3
   },
   "file_extension": ".py",
   "mimetype": "text/x-python",
   "name": "python",
   "nbconvert_exporter": "python",
   "pygments_lexer": "ipython3",
   "version": "3.8.5"
  }
 },
 "nbformat": 4,
 "nbformat_minor": 4
}